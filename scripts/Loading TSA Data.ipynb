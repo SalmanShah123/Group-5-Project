{
 "cells": [
  {
   "cell_type": "code",
   "execution_count": 1,
   "id": "c4060575",
   "metadata": {},
   "outputs": [
    {
     "name": "stdout",
     "output_type": "stream",
     "text": [
      "Requirement already satisfied: azure-storage-blob in ./opt/anaconda3/lib/python3.9/site-packages (12.19.1)\n",
      "Requirement already satisfied: cryptography>=2.1.4 in ./opt/anaconda3/lib/python3.9/site-packages (from azure-storage-blob) (37.0.1)\n",
      "Requirement already satisfied: isodate>=0.6.1 in ./opt/anaconda3/lib/python3.9/site-packages (from azure-storage-blob) (0.6.1)\n",
      "Requirement already satisfied: typing-extensions>=4.3.0 in ./opt/anaconda3/lib/python3.9/site-packages (from azure-storage-blob) (4.10.0)\n",
      "Requirement already satisfied: azure-core<2.0.0,>=1.28.0 in ./opt/anaconda3/lib/python3.9/site-packages (from azure-storage-blob) (1.30.1)\n",
      "Requirement already satisfied: six>=1.11.0 in ./opt/anaconda3/lib/python3.9/site-packages (from azure-core<2.0.0,>=1.28.0->azure-storage-blob) (1.16.0)\n",
      "Requirement already satisfied: requests>=2.21.0 in ./opt/anaconda3/lib/python3.9/site-packages (from azure-core<2.0.0,>=1.28.0->azure-storage-blob) (2.28.1)\n",
      "Requirement already satisfied: cffi>=1.12 in ./opt/anaconda3/lib/python3.9/site-packages (from cryptography>=2.1.4->azure-storage-blob) (1.15.1)\n",
      "Requirement already satisfied: pycparser in ./opt/anaconda3/lib/python3.9/site-packages (from cffi>=1.12->cryptography>=2.1.4->azure-storage-blob) (2.21)\n",
      "Requirement already satisfied: idna<4,>=2.5 in ./opt/anaconda3/lib/python3.9/site-packages (from requests>=2.21.0->azure-core<2.0.0,>=1.28.0->azure-storage-blob) (3.3)\n",
      "Requirement already satisfied: urllib3<1.27,>=1.21.1 in ./opt/anaconda3/lib/python3.9/site-packages (from requests>=2.21.0->azure-core<2.0.0,>=1.28.0->azure-storage-blob) (1.26.11)\n",
      "Requirement already satisfied: certifi>=2017.4.17 in ./opt/anaconda3/lib/python3.9/site-packages (from requests>=2.21.0->azure-core<2.0.0,>=1.28.0->azure-storage-blob) (2024.2.2)\n",
      "Requirement already satisfied: charset-normalizer<3,>=2 in ./opt/anaconda3/lib/python3.9/site-packages (from requests>=2.21.0->azure-core<2.0.0,>=1.28.0->azure-storage-blob) (2.0.4)\n",
      "Requirement already satisfied: boto3 in ./opt/anaconda3/lib/python3.9/site-packages (1.24.28)\n",
      "Requirement already satisfied: jmespath<2.0.0,>=0.7.1 in ./opt/anaconda3/lib/python3.9/site-packages (from boto3) (0.10.0)\n",
      "Requirement already satisfied: botocore<1.28.0,>=1.27.28 in ./opt/anaconda3/lib/python3.9/site-packages (from boto3) (1.27.28)\n",
      "Requirement already satisfied: s3transfer<0.7.0,>=0.6.0 in ./opt/anaconda3/lib/python3.9/site-packages (from boto3) (0.6.0)\n",
      "Requirement already satisfied: python-dateutil<3.0.0,>=2.1 in ./opt/anaconda3/lib/python3.9/site-packages (from botocore<1.28.0,>=1.27.28->boto3) (2.8.2)\n",
      "Requirement already satisfied: urllib3<1.27,>=1.25.4 in ./opt/anaconda3/lib/python3.9/site-packages (from botocore<1.28.0,>=1.27.28->boto3) (1.26.11)\n",
      "Requirement already satisfied: six>=1.5 in ./opt/anaconda3/lib/python3.9/site-packages (from python-dateutil<3.0.0,>=2.1->botocore<1.28.0,>=1.27.28->boto3) (1.16.0)\n"
     ]
    }
   ],
   "source": [
    "#install adapter\n",
    "!pip install azure-storage-blob\n",
    "!pip install boto3"
   ]
  },
  {
   "cell_type": "code",
   "execution_count": 2,
   "id": "a528cdc7",
   "metadata": {},
   "outputs": [],
   "source": [
    "import boto3\n",
    "from azure.storage.blob import BlobServiceClient, BlobClient, ContainerClient\n",
    "from io import StringIO\n",
    "import pandas as pd"
   ]
  },
  {
   "cell_type": "code",
   "execution_count": 4,
   "id": "95b48330",
   "metadata": {},
   "outputs": [
    {
     "name": "stdout",
     "output_type": "stream",
     "text": [
      "               Date   Time IATA                              Airport  \\\n",
      "0        2023-07-01   0:00  ANC  Ted Stevens Anchorage International   \n",
      "1        2023-07-01   0:00  ATL     Hartsfield Atlanta International   \n",
      "2        2023-07-01   0:00  AUS       Austin Bergstrom International   \n",
      "3        2023-07-01   0:00  BOS                  Logan International   \n",
      "4        2023-07-01   0:00  BQN                     Rafael Hernandez   \n",
      "...             ...    ...  ...                                  ...   \n",
      "1279476  2023-12-31  23:00  SFO          San Francisco International   \n",
      "1279477  2023-12-31  23:00  SJU       Luis Munoz Marin International   \n",
      "1279478  2023-12-31  23:00  SLC         Salt Lake City International   \n",
      "1279479  2023-12-31  23:00  SMF             Sacramento International   \n",
      "1279480  2023-12-31  23:00  SMF             Sacramento International   \n",
      "\n",
      "                   City State             Checkpoint  Total_pax_kcm_pax  \n",
      "0             Anchorage    AK       South Checkpoint                200  \n",
      "1               Atlanta    GA        Main Checkpoint                 41  \n",
      "2                Austin    TX                  AUS01                  7  \n",
      "3           East Boston    MA                     E2                 78  \n",
      "4             Aguadilla    PR   Rafael Hernandez Air                130  \n",
      "...                 ...   ...                    ...                ...  \n",
      "1279476   San Francisco    CA  Security Checkpoint G                149  \n",
      "1279477        San Juan    PR          Checkpoint BC                268  \n",
      "1279478  Salt Lake City    UT                   Main                180  \n",
      "1279479      Sacramento    CA              Central B                103  \n",
      "1279480      Sacramento    CA             Terminal A                382  \n",
      "\n",
      "[1279481 rows x 8 columns]\n"
     ]
    }
   ],
   "source": [
    "tsadata=pd.read_csv(r\"/Users/gms/Desktop/tsa_data.csv\")\n",
    "print(tsadata)"
   ]
  },
  {
   "cell_type": "code",
   "execution_count": 5,
   "id": "b35ea6f5",
   "metadata": {},
   "outputs": [
    {
     "name": "stdout",
     "output_type": "stream",
     "text": [
      "<class 'pandas.core.frame.DataFrame'>\n",
      "RangeIndex: 1279481 entries, 0 to 1279480\n",
      "Data columns (total 8 columns):\n",
      " #   Column             Non-Null Count    Dtype \n",
      "---  ------             --------------    ----- \n",
      " 0   Date               1279481 non-null  object\n",
      " 1   Time               1279481 non-null  object\n",
      " 2   IATA               1279481 non-null  object\n",
      " 3   Airport            1279481 non-null  object\n",
      " 4   City               1279481 non-null  object\n",
      " 5   State              1279481 non-null  object\n",
      " 6   Checkpoint         1279481 non-null  object\n",
      " 7   Total_pax_kcm_pax  1279481 non-null  int64 \n",
      "dtypes: int64(1), object(7)\n",
      "memory usage: 78.1+ MB\n"
     ]
    }
   ],
   "source": [
    "# check null data\n",
    "tsadata.info()"
   ]
  },
  {
   "cell_type": "code",
   "execution_count": 7,
   "id": "f2a151b0",
   "metadata": {},
   "outputs": [
    {
     "name": "stdout",
     "output_type": "stream",
     "text": [
      "Uploaded tsadata Jul1-Dec31.csv to Azure Blob Storage in container tsaweather.\n"
     ]
    }
   ],
   "source": [
    "#put into cloud storatge (create and upload)\n",
    "CONNECTION_STRING_AZURE_STORAGE = \"DefaultEndpointsProtocol=https;AccountName=teamprojectcis9440;AccountKey=gD9xnf//7J7h70d5tgNEEZDOQ+XUHxM1Se78wNXVzKYrfueXt0qZ8dYgqSLjGlKBBriI6Jwv+614+ASt60ATjQ==;EndpointSuffix=core.windows.net\"\n",
    "CONTAINER_AZURE = 'tsaweather'\n",
    "blob_name = \"tsadata Jul1-Dec31.csv\"\n",
    "# Convert DataFrame to CSV\n",
    "output = StringIO()\n",
    "tsadata.to_csv(output, index=False)\n",
    "data = output.getvalue()\n",
    "output.close()\n",
    "\n",
    "# Create the BlobServiceClient object\n",
    "blob_service_client = BlobServiceClient.from_connection_string(CONNECTION_STRING_AZURE_STORAGE)\n",
    "\n",
    "# Get a blob client using the container name and blob name\n",
    "blob_client = blob_service_client.get_blob_client(container=CONTAINER_AZURE, blob=blob_name)\n",
    "\n",
    "# Upload the CSV data\n",
    "blob_client.upload_blob(data, overwrite=True)\n",
    "\n",
    "print(f\"Uploaded {blob_name} to Azure Blob Storage in container {CONTAINER_AZURE}.\")"
   ]
  }
 ],
 "metadata": {
  "kernelspec": {
   "display_name": "Python 3 (ipykernel)",
   "language": "python",
   "name": "python3"
  },
  "language_info": {
   "codemirror_mode": {
    "name": "ipython",
    "version": 3
   },
   "file_extension": ".py",
   "mimetype": "text/x-python",
   "name": "python",
   "nbconvert_exporter": "python",
   "pygments_lexer": "ipython3",
   "version": "3.9.13"
  }
 },
 "nbformat": 4,
 "nbformat_minor": 5
}
