{
 "cells": [
  {
   "cell_type": "code",
   "execution_count": 1,
   "id": "781768ff",
   "metadata": {},
   "outputs": [
    {
     "name": "stdout",
     "output_type": "stream",
     "text": [
      "Requirement already satisfied: azure-storage-blob in ./opt/anaconda3/lib/python3.9/site-packages (12.19.1)\n",
      "Requirement already satisfied: cryptography>=2.1.4 in ./opt/anaconda3/lib/python3.9/site-packages (from azure-storage-blob) (37.0.1)\n",
      "Requirement already satisfied: isodate>=0.6.1 in ./opt/anaconda3/lib/python3.9/site-packages (from azure-storage-blob) (0.6.1)\n",
      "Requirement already satisfied: azure-core<2.0.0,>=1.28.0 in ./opt/anaconda3/lib/python3.9/site-packages (from azure-storage-blob) (1.30.1)\n",
      "Requirement already satisfied: typing-extensions>=4.3.0 in ./opt/anaconda3/lib/python3.9/site-packages (from azure-storage-blob) (4.10.0)\n",
      "Requirement already satisfied: six>=1.11.0 in ./opt/anaconda3/lib/python3.9/site-packages (from azure-core<2.0.0,>=1.28.0->azure-storage-blob) (1.16.0)\n",
      "Requirement already satisfied: requests>=2.21.0 in ./opt/anaconda3/lib/python3.9/site-packages (from azure-core<2.0.0,>=1.28.0->azure-storage-blob) (2.28.1)\n",
      "Requirement already satisfied: cffi>=1.12 in ./opt/anaconda3/lib/python3.9/site-packages (from cryptography>=2.1.4->azure-storage-blob) (1.15.1)\n",
      "Requirement already satisfied: pycparser in ./opt/anaconda3/lib/python3.9/site-packages (from cffi>=1.12->cryptography>=2.1.4->azure-storage-blob) (2.21)\n",
      "Requirement already satisfied: idna<4,>=2.5 in ./opt/anaconda3/lib/python3.9/site-packages (from requests>=2.21.0->azure-core<2.0.0,>=1.28.0->azure-storage-blob) (3.3)\n",
      "Requirement already satisfied: charset-normalizer<3,>=2 in ./opt/anaconda3/lib/python3.9/site-packages (from requests>=2.21.0->azure-core<2.0.0,>=1.28.0->azure-storage-blob) (2.0.4)\n",
      "Requirement already satisfied: urllib3<1.27,>=1.21.1 in ./opt/anaconda3/lib/python3.9/site-packages (from requests>=2.21.0->azure-core<2.0.0,>=1.28.0->azure-storage-blob) (1.26.11)\n",
      "Requirement already satisfied: certifi>=2017.4.17 in ./opt/anaconda3/lib/python3.9/site-packages (from requests>=2.21.0->azure-core<2.0.0,>=1.28.0->azure-storage-blob) (2024.2.2)\n",
      "Requirement already satisfied: boto3 in ./opt/anaconda3/lib/python3.9/site-packages (1.24.28)\n",
      "Requirement already satisfied: s3transfer<0.7.0,>=0.6.0 in ./opt/anaconda3/lib/python3.9/site-packages (from boto3) (0.6.0)\n",
      "Requirement already satisfied: botocore<1.28.0,>=1.27.28 in ./opt/anaconda3/lib/python3.9/site-packages (from boto3) (1.27.28)\n",
      "Requirement already satisfied: jmespath<2.0.0,>=0.7.1 in ./opt/anaconda3/lib/python3.9/site-packages (from boto3) (0.10.0)\n",
      "Requirement already satisfied: urllib3<1.27,>=1.25.4 in ./opt/anaconda3/lib/python3.9/site-packages (from botocore<1.28.0,>=1.27.28->boto3) (1.26.11)\n",
      "Requirement already satisfied: python-dateutil<3.0.0,>=2.1 in ./opt/anaconda3/lib/python3.9/site-packages (from botocore<1.28.0,>=1.27.28->boto3) (2.8.2)\n",
      "Requirement already satisfied: six>=1.5 in ./opt/anaconda3/lib/python3.9/site-packages (from python-dateutil<3.0.0,>=2.1->botocore<1.28.0,>=1.27.28->boto3) (1.16.0)\n"
     ]
    }
   ],
   "source": [
    "#install adapter\n",
    "!pip install azure-storage-blob\n",
    "!pip install boto3"
   ]
  },
  {
   "cell_type": "code",
   "execution_count": 2,
   "id": "431f93af",
   "metadata": {},
   "outputs": [],
   "source": [
    "import json\n",
    "import boto3\n",
    "from azure.storage.blob import BlobServiceClient, BlobClient, ContainerClient\n",
    "from io import StringIO\n",
    "import pandas as pd"
   ]
  },
  {
   "cell_type": "code",
   "execution_count": 3,
   "id": "18eb9c2a",
   "metadata": {},
   "outputs": [
    {
     "name": "stdout",
     "output_type": "stream",
     "text": [
      "Coordinates 52.5483283996582°N 13.407821655273438°E\n",
      "Elevation 38.0 m asl\n",
      "Timezone None None\n",
      "Timezone difference to GMT+0 0 s\n",
      "                          date  temperature_2m  relative_humidity_2m  \\\n",
      "0    2023-07-01 00:00:00+00:00       16.758501             89.997665   \n",
      "1    2023-07-01 01:00:00+00:00       16.658501             90.570862   \n",
      "2    2023-07-01 02:00:00+00:00       15.408501             96.527077   \n",
      "3    2023-07-01 03:00:00+00:00       15.208500             91.059433   \n",
      "4    2023-07-01 04:00:00+00:00       15.758500             92.280869   \n",
      "...                        ...             ...                   ...   \n",
      "4411 2023-12-31 19:00:00+00:00        6.308500             83.442131   \n",
      "4412 2023-12-31 20:00:00+00:00        6.658500             84.960327   \n",
      "4413 2023-12-31 21:00:00+00:00        6.058500             87.312302   \n",
      "4414 2023-12-31 22:00:00+00:00        5.208500             88.159035   \n",
      "4415 2023-12-31 23:00:00+00:00        5.158500             86.918320   \n",
      "\n",
      "      precipitation  wind_speed_100m  \n",
      "0               0.0        13.551501  \n",
      "1               0.0        13.493999  \n",
      "2               0.0        14.882420  \n",
      "3               1.0         6.480000  \n",
      "4               0.2        11.726277  \n",
      "...             ...              ...  \n",
      "4411            0.1        30.317043  \n",
      "4412            0.0        28.664680  \n",
      "4413            0.0        28.082308  \n",
      "4414            0.0        28.856194  \n",
      "4415            0.0        28.227304  \n",
      "\n",
      "[4416 rows x 5 columns]\n"
     ]
    }
   ],
   "source": [
    "import openmeteo_requests\n",
    "\n",
    "import requests_cache\n",
    "import pandas as pd\n",
    "from retry_requests import retry\n",
    "\n",
    "# Setup the Open-Meteo API client with cache and retry on error\n",
    "cache_session = requests_cache.CachedSession('.cache', expire_after = -1)\n",
    "retry_session = retry(cache_session, retries = 5, backoff_factor = 0.2)\n",
    "openmeteo = openmeteo_requests.Client(session = retry_session)\n",
    "\n",
    "# Make sure all required weather variables are listed here\n",
    "# The order of variables in hourly or daily is important to assign them correctly below\n",
    "url = \"https://archive-api.open-meteo.com/v1/archive\"\n",
    "params = {\n",
    "\t\"latitude\": 52.52,\n",
    "\t\"longitude\": 13.41,\n",
    "\t\"start_date\": \"2023-07-01\",\n",
    "\t\"end_date\": \"2023-12-31\",\n",
    "\t\"hourly\": [\"temperature_2m\", \"relative_humidity_2m\", \"precipitation\", \"wind_speed_100m\"]\n",
    "}\n",
    "responses = openmeteo.weather_api(url, params=params)\n",
    "\n",
    "# Process first location. Add a for-loop for multiple locations or weather models\n",
    "response = responses[0]\n",
    "print(f\"Coordinates {response.Latitude()}°N {response.Longitude()}°E\")\n",
    "print(f\"Elevation {response.Elevation()} m asl\")\n",
    "print(f\"Timezone {response.Timezone()} {response.TimezoneAbbreviation()}\")\n",
    "print(f\"Timezone difference to GMT+0 {response.UtcOffsetSeconds()} s\")\n",
    "\n",
    "# Process hourly data. The order of variables needs to be the same as requested.\n",
    "hourly = response.Hourly()\n",
    "hourly_temperature_2m = hourly.Variables(0).ValuesAsNumpy()\n",
    "hourly_relative_humidity_2m = hourly.Variables(1).ValuesAsNumpy()\n",
    "hourly_precipitation = hourly.Variables(2).ValuesAsNumpy()\n",
    "hourly_wind_speed_100m = hourly.Variables(3).ValuesAsNumpy()\n",
    "\n",
    "hourly_data = {\"date\": pd.date_range(\n",
    "\tstart = pd.to_datetime(hourly.Time(), unit = \"s\", utc = True),\n",
    "\tend = pd.to_datetime(hourly.TimeEnd(), unit = \"s\", utc = True),\n",
    "\tfreq = pd.Timedelta(seconds = hourly.Interval()),\n",
    "\tinclusive = \"left\"\n",
    ")}\n",
    "hourly_data[\"temperature_2m\"] = hourly_temperature_2m\n",
    "hourly_data[\"relative_humidity_2m\"] = hourly_relative_humidity_2m\n",
    "hourly_data[\"precipitation\"] = hourly_precipitation\n",
    "hourly_data[\"wind_speed_100m\"] = hourly_wind_speed_100m\n",
    "\n",
    "hourly_dataframe = pd.DataFrame(data = hourly_data)\n",
    "print(hourly_dataframe)"
   ]
  },
  {
   "cell_type": "code",
   "execution_count": 4,
   "id": "1ba99fec",
   "metadata": {},
   "outputs": [
    {
     "name": "stdout",
     "output_type": "stream",
     "text": [
      "                          date  temperature_2m  relative_humidity_2m  \\\n",
      "0    2023-07-01 00:00:00+00:00       16.758501             89.997665   \n",
      "1    2023-07-01 01:00:00+00:00       16.658501             90.570862   \n",
      "2    2023-07-01 02:00:00+00:00       15.408501             96.527077   \n",
      "3    2023-07-01 03:00:00+00:00       15.208500             91.059433   \n",
      "4    2023-07-01 04:00:00+00:00       15.758500             92.280869   \n",
      "...                        ...             ...                   ...   \n",
      "4411 2023-12-31 19:00:00+00:00        6.308500             83.442131   \n",
      "4412 2023-12-31 20:00:00+00:00        6.658500             84.960327   \n",
      "4413 2023-12-31 21:00:00+00:00        6.058500             87.312302   \n",
      "4414 2023-12-31 22:00:00+00:00        5.208500             88.159035   \n",
      "4415 2023-12-31 23:00:00+00:00        5.158500             86.918320   \n",
      "\n",
      "      precipitation  wind_speed_100m  \n",
      "0               0.0        13.551501  \n",
      "1               0.0        13.493999  \n",
      "2               0.0        14.882420  \n",
      "3               1.0         6.480000  \n",
      "4               0.2        11.726277  \n",
      "...             ...              ...  \n",
      "4411            0.1        30.317043  \n",
      "4412            0.0        28.664680  \n",
      "4413            0.0        28.082308  \n",
      "4414            0.0        28.856194  \n",
      "4415            0.0        28.227304  \n",
      "\n",
      "[4416 rows x 5 columns]\n"
     ]
    }
   ],
   "source": [
    "print(hourly_dataframe)"
   ]
  },
  {
   "cell_type": "code",
   "execution_count": 5,
   "id": "b764eda8",
   "metadata": {},
   "outputs": [
    {
     "name": "stdout",
     "output_type": "stream",
     "text": [
      "<class 'pandas.core.frame.DataFrame'>\n",
      "RangeIndex: 4416 entries, 0 to 4415\n",
      "Data columns (total 5 columns):\n",
      " #   Column                Non-Null Count  Dtype              \n",
      "---  ------                --------------  -----              \n",
      " 0   date                  4416 non-null   datetime64[ns, UTC]\n",
      " 1   temperature_2m        4416 non-null   float32            \n",
      " 2   relative_humidity_2m  4416 non-null   float32            \n",
      " 3   precipitation         4416 non-null   float32            \n",
      " 4   wind_speed_100m       4416 non-null   float32            \n",
      "dtypes: datetime64[ns, UTC](1), float32(4)\n",
      "memory usage: 103.6 KB\n"
     ]
    }
   ],
   "source": [
    "# check null data\n",
    "hourly_dataframe.info()"
   ]
  },
  {
   "cell_type": "code",
   "execution_count": 8,
   "id": "017e5bc9",
   "metadata": {},
   "outputs": [
    {
     "name": "stdout",
     "output_type": "stream",
     "text": [
      "Uploaded weatherdata Jul1-Dec31.csv to Azure Blob Storage in container tsaweather.\n"
     ]
    }
   ],
   "source": [
    "#put into cloud storatge (create and upload)\n",
    "CONNECTION_STRING_AZURE_STORAGE = \"DefaultEndpointsProtocol=https;AccountName=teamprojectcis9440;AccountKey=gD9xnf//7J7h70d5tgNEEZDOQ+XUHxM1Se78wNXVzKYrfueXt0qZ8dYgqSLjGlKBBriI6Jwv+614+ASt60ATjQ==;EndpointSuffix=core.windows.net\"\n",
    "CONTAINER_AZURE = 'tsaweather'\n",
    "blob_name = \"weatherdata Jul1-Dec31.csv\"\n",
    "# Convert DataFrame to CSV\n",
    "output = StringIO()\n",
    "hourly_dataframe.to_csv(output, index=False)\n",
    "data = output.getvalue()\n",
    "output.close()\n",
    "\n",
    "# Create the BlobServiceClient object\n",
    "blob_service_client = BlobServiceClient.from_connection_string(CONNECTION_STRING_AZURE_STORAGE)\n",
    "\n",
    "# Get a blob client using the container name and blob name\n",
    "blob_client = blob_service_client.get_blob_client(container=CONTAINER_AZURE, blob=blob_name)\n",
    "\n",
    "# Upload the CSV data\n",
    "blob_client.upload_blob(data, overwrite=True)\n",
    "\n",
    "print(f\"Uploaded {blob_name} to Azure Blob Storage in container {CONTAINER_AZURE}.\")"
   ]
  }
 ],
 "metadata": {
  "kernelspec": {
   "display_name": "Python 3 (ipykernel)",
   "language": "python",
   "name": "python3"
  },
  "language_info": {
   "codemirror_mode": {
    "name": "ipython",
    "version": 3
   },
   "file_extension": ".py",
   "mimetype": "text/x-python",
   "name": "python",
   "nbconvert_exporter": "python",
   "pygments_lexer": "ipython3",
   "version": "3.9.13"
  }
 },
 "nbformat": 4,
 "nbformat_minor": 5
}
